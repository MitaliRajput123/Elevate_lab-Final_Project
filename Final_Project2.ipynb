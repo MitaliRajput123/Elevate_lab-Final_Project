{
 "cells": [
  {
   "cell_type": "code",
   "execution_count": 1,
   "id": "673ad3bd-0175-4a0b-b436-fcc6512a4c42",
   "metadata": {},
   "outputs": [],
   "source": [
    "import numpy as np\n",
    "import pandas as pd\n",
    "import matplotlib.pyplot as plt\n",
    "import sqlite3\n",
    "import seaborn as sns"
   ]
  },
  {
   "cell_type": "markdown",
   "id": "03e76188-0b61-4217-ad96-6ed665afdb54",
   "metadata": {},
   "source": [
    "# Import data file."
   ]
  },
  {
   "cell_type": "code",
   "execution_count": 2,
   "id": "b36c5128-7115-4898-bb59-e63839b35d65",
   "metadata": {},
   "outputs": [
    {
     "data": {
      "text/html": [
       "<div>\n",
       "<style scoped>\n",
       "    .dataframe tbody tr th:only-of-type {\n",
       "        vertical-align: middle;\n",
       "    }\n",
       "\n",
       "    .dataframe tbody tr th {\n",
       "        vertical-align: top;\n",
       "    }\n",
       "\n",
       "    .dataframe thead th {\n",
       "        text-align: right;\n",
       "    }\n",
       "</style>\n",
       "<table border=\"1\" class=\"dataframe\">\n",
       "  <thead>\n",
       "    <tr style=\"text-align: right;\">\n",
       "      <th></th>\n",
       "      <th>video_id</th>\n",
       "      <th>title</th>\n",
       "      <th>channel_title</th>\n",
       "      <th>category</th>\n",
       "      <th>publish_time</th>\n",
       "      <th>country</th>\n",
       "      <th>views</th>\n",
       "      <th>likes</th>\n",
       "      <th>dislikes</th>\n",
       "      <th>comment_count</th>\n",
       "      <th>tags</th>\n",
       "      <th>sentiment_score</th>\n",
       "      <th>trending_duration_days</th>\n",
       "    </tr>\n",
       "  </thead>\n",
       "  <tbody>\n",
       "    <tr>\n",
       "      <th>0</th>\n",
       "      <td>vid_000</td>\n",
       "      <td>Video 84</td>\n",
       "      <td>Channel_0</td>\n",
       "      <td>News</td>\n",
       "      <td>2024-01-12</td>\n",
       "      <td>DE</td>\n",
       "      <td>123632</td>\n",
       "      <td>23789</td>\n",
       "      <td>7400</td>\n",
       "      <td>19968</td>\n",
       "      <td>vlog</td>\n",
       "      <td>0.43</td>\n",
       "      <td>21</td>\n",
       "    </tr>\n",
       "    <tr>\n",
       "      <th>1</th>\n",
       "      <td>vid_001</td>\n",
       "      <td>Video 54</td>\n",
       "      <td>Channel_1</td>\n",
       "      <td>Music</td>\n",
       "      <td>2024-02-08</td>\n",
       "      <td>IN</td>\n",
       "      <td>947012</td>\n",
       "      <td>45190</td>\n",
       "      <td>8082</td>\n",
       "      <td>9588</td>\n",
       "      <td>breaking news</td>\n",
       "      <td>0.79</td>\n",
       "      <td>5</td>\n",
       "    </tr>\n",
       "    <tr>\n",
       "      <th>2</th>\n",
       "      <td>vid_002</td>\n",
       "      <td>Video 71</td>\n",
       "      <td>Channel_2</td>\n",
       "      <td>News</td>\n",
       "      <td>2024-01-02</td>\n",
       "      <td>IN</td>\n",
       "      <td>261451</td>\n",
       "      <td>35757</td>\n",
       "      <td>4171</td>\n",
       "      <td>11829</td>\n",
       "      <td>breaking news</td>\n",
       "      <td>0.02</td>\n",
       "      <td>5</td>\n",
       "    </tr>\n",
       "    <tr>\n",
       "      <th>3</th>\n",
       "      <td>vid_003</td>\n",
       "      <td>Video 46</td>\n",
       "      <td>Channel_3</td>\n",
       "      <td>News</td>\n",
       "      <td>2024-01-03</td>\n",
       "      <td>IN</td>\n",
       "      <td>13051</td>\n",
       "      <td>10323</td>\n",
       "      <td>4360</td>\n",
       "      <td>8053</td>\n",
       "      <td>breaking news</td>\n",
       "      <td>0.06</td>\n",
       "      <td>19</td>\n",
       "    </tr>\n",
       "    <tr>\n",
       "      <th>4</th>\n",
       "      <td>vid_004</td>\n",
       "      <td>Video 45</td>\n",
       "      <td>Channel_4</td>\n",
       "      <td>Music</td>\n",
       "      <td>2024-02-25</td>\n",
       "      <td>GB</td>\n",
       "      <td>714107</td>\n",
       "      <td>42475</td>\n",
       "      <td>2502</td>\n",
       "      <td>3330</td>\n",
       "      <td>vlog</td>\n",
       "      <td>-0.79</td>\n",
       "      <td>27</td>\n",
       "    </tr>\n",
       "  </tbody>\n",
       "</table>\n",
       "</div>"
      ],
      "text/plain": [
       "  video_id     title channel_title category publish_time country   views  \\\n",
       "0  vid_000  Video 84     Channel_0     News   2024-01-12      DE  123632   \n",
       "1  vid_001  Video 54     Channel_1    Music   2024-02-08      IN  947012   \n",
       "2  vid_002  Video 71     Channel_2     News   2024-01-02      IN  261451   \n",
       "3  vid_003  Video 46     Channel_3     News   2024-01-03      IN   13051   \n",
       "4  vid_004  Video 45     Channel_4    Music   2024-02-25      GB  714107   \n",
       "\n",
       "   likes  dislikes  comment_count           tags  sentiment_score  \\\n",
       "0  23789      7400          19968           vlog             0.43   \n",
       "1  45190      8082           9588  breaking news             0.79   \n",
       "2  35757      4171          11829  breaking news             0.02   \n",
       "3  10323      4360           8053  breaking news             0.06   \n",
       "4  42475      2502           3330           vlog            -0.79   \n",
       "\n",
       "   trending_duration_days  \n",
       "0                      21  \n",
       "1                       5  \n",
       "2                       5  \n",
       "3                      19  \n",
       "4                      27  "
      ]
     },
     "execution_count": 2,
     "metadata": {},
     "output_type": "execute_result"
    }
   ],
   "source": [
    "df = pd.read_csv('Downloads/youtube_trending_data.csv')\n",
    "df.head()"
   ]
  },
  {
   "cell_type": "markdown",
   "id": "d4984a16-3027-4627-9e3c-22fbe502e9c3",
   "metadata": {},
   "source": [
    "# Basic Information."
   ]
  },
  {
   "cell_type": "code",
   "execution_count": 3,
   "id": "4e6849d0-be2a-442a-b2b8-089bf78c5f9e",
   "metadata": {},
   "outputs": [
    {
     "name": "stdout",
     "output_type": "stream",
     "text": [
      "<class 'pandas.core.frame.DataFrame'>\n",
      "RangeIndex: 100 entries, 0 to 99\n",
      "Data columns (total 13 columns):\n",
      " #   Column                  Non-Null Count  Dtype  \n",
      "---  ------                  --------------  -----  \n",
      " 0   video_id                100 non-null    object \n",
      " 1   title                   100 non-null    object \n",
      " 2   channel_title           100 non-null    object \n",
      " 3   category                100 non-null    object \n",
      " 4   publish_time            100 non-null    object \n",
      " 5   country                 100 non-null    object \n",
      " 6   views                   100 non-null    int64  \n",
      " 7   likes                   100 non-null    int64  \n",
      " 8   dislikes                100 non-null    int64  \n",
      " 9   comment_count           100 non-null    int64  \n",
      " 10  tags                    100 non-null    object \n",
      " 11  sentiment_score         100 non-null    float64\n",
      " 12  trending_duration_days  100 non-null    int64  \n",
      "dtypes: float64(1), int64(5), object(7)\n",
      "memory usage: 10.3+ KB\n"
     ]
    }
   ],
   "source": [
    "df.info()"
   ]
  },
  {
   "cell_type": "markdown",
   "id": "105d586a-3ed2-4e4f-9d7e-74f007787e2e",
   "metadata": {},
   "source": [
    "# Cheaking Null values."
   ]
  },
  {
   "cell_type": "code",
   "execution_count": 4,
   "id": "f02d059c-b297-4d51-85ed-0ed3d1dece41",
   "metadata": {},
   "outputs": [
    {
     "data": {
      "text/plain": [
       "video_id                  0\n",
       "title                     0\n",
       "channel_title             0\n",
       "category                  0\n",
       "publish_time              0\n",
       "country                   0\n",
       "views                     0\n",
       "likes                     0\n",
       "dislikes                  0\n",
       "comment_count             0\n",
       "tags                      0\n",
       "sentiment_score           0\n",
       "trending_duration_days    0\n",
       "dtype: int64"
      ]
     },
     "execution_count": 4,
     "metadata": {},
     "output_type": "execute_result"
    }
   ],
   "source": [
    "df.isnull().sum()"
   ]
  },
  {
   "cell_type": "markdown",
   "id": "be192804-5d26-4df6-8b86-ce7ebe515416",
   "metadata": {},
   "source": [
    "# Convert datatype into date formate."
   ]
  },
  {
   "cell_type": "code",
   "execution_count": 7,
   "id": "328bd677-241d-4ba2-9b26-032b7af003b3",
   "metadata": {},
   "outputs": [
    {
     "name": "stdout",
     "output_type": "stream",
     "text": [
      "datetime64[ns]\n"
     ]
    }
   ],
   "source": [
    "df['publish_time'] =pd.to_datetime(df['publish_time'])\n",
    "print(df['publish_time'].dtypes)"
   ]
  },
  {
   "cell_type": "code",
   "execution_count": 9,
   "id": "dc98e0d7-4622-4ee8-9698-3d28419e8e26",
   "metadata": {},
   "outputs": [],
   "source": [
    "df.dropna(inplace=True)"
   ]
  },
  {
   "cell_type": "markdown",
   "id": "03c06343-b5ba-4d97-8c60-17c33b9c6c5a",
   "metadata": {},
   "source": [
    "# Sentiment Analysis on title and tags."
   ]
  },
  {
   "cell_type": "code",
   "execution_count": 11,
   "id": "1b26e8b5-2d56-47fc-a2a7-afbd841a8f93",
   "metadata": {},
   "outputs": [
    {
     "data": {
      "text/html": [
       "<div>\n",
       "<style scoped>\n",
       "    .dataframe tbody tr th:only-of-type {\n",
       "        vertical-align: middle;\n",
       "    }\n",
       "\n",
       "    .dataframe tbody tr th {\n",
       "        vertical-align: top;\n",
       "    }\n",
       "\n",
       "    .dataframe thead th {\n",
       "        text-align: right;\n",
       "    }\n",
       "</style>\n",
       "<table border=\"1\" class=\"dataframe\">\n",
       "  <thead>\n",
       "    <tr style=\"text-align: right;\">\n",
       "      <th></th>\n",
       "      <th>video_id</th>\n",
       "      <th>title</th>\n",
       "      <th>channel_title</th>\n",
       "      <th>category</th>\n",
       "      <th>publish_time</th>\n",
       "      <th>country</th>\n",
       "      <th>views</th>\n",
       "      <th>likes</th>\n",
       "      <th>dislikes</th>\n",
       "      <th>comment_count</th>\n",
       "      <th>tags</th>\n",
       "      <th>sentiment_score</th>\n",
       "      <th>trending_duration_days</th>\n",
       "    </tr>\n",
       "  </thead>\n",
       "  <tbody>\n",
       "    <tr>\n",
       "      <th>0</th>\n",
       "      <td>vid_000</td>\n",
       "      <td>Video 84</td>\n",
       "      <td>Channel_0</td>\n",
       "      <td>News</td>\n",
       "      <td>2024-01-12</td>\n",
       "      <td>DE</td>\n",
       "      <td>123632</td>\n",
       "      <td>23789</td>\n",
       "      <td>7400</td>\n",
       "      <td>19968</td>\n",
       "      <td>vlog</td>\n",
       "      <td>0.43</td>\n",
       "      <td>21</td>\n",
       "    </tr>\n",
       "    <tr>\n",
       "      <th>1</th>\n",
       "      <td>vid_001</td>\n",
       "      <td>Video 54</td>\n",
       "      <td>Channel_1</td>\n",
       "      <td>Music</td>\n",
       "      <td>2024-02-08</td>\n",
       "      <td>IN</td>\n",
       "      <td>947012</td>\n",
       "      <td>45190</td>\n",
       "      <td>8082</td>\n",
       "      <td>9588</td>\n",
       "      <td>breaking news</td>\n",
       "      <td>0.79</td>\n",
       "      <td>5</td>\n",
       "    </tr>\n",
       "    <tr>\n",
       "      <th>2</th>\n",
       "      <td>vid_002</td>\n",
       "      <td>Video 71</td>\n",
       "      <td>Channel_2</td>\n",
       "      <td>News</td>\n",
       "      <td>2024-01-02</td>\n",
       "      <td>IN</td>\n",
       "      <td>261451</td>\n",
       "      <td>35757</td>\n",
       "      <td>4171</td>\n",
       "      <td>11829</td>\n",
       "      <td>breaking news</td>\n",
       "      <td>0.02</td>\n",
       "      <td>5</td>\n",
       "    </tr>\n",
       "    <tr>\n",
       "      <th>3</th>\n",
       "      <td>vid_003</td>\n",
       "      <td>Video 46</td>\n",
       "      <td>Channel_3</td>\n",
       "      <td>News</td>\n",
       "      <td>2024-01-03</td>\n",
       "      <td>IN</td>\n",
       "      <td>13051</td>\n",
       "      <td>10323</td>\n",
       "      <td>4360</td>\n",
       "      <td>8053</td>\n",
       "      <td>breaking news</td>\n",
       "      <td>0.06</td>\n",
       "      <td>19</td>\n",
       "    </tr>\n",
       "    <tr>\n",
       "      <th>4</th>\n",
       "      <td>vid_004</td>\n",
       "      <td>Video 45</td>\n",
       "      <td>Channel_4</td>\n",
       "      <td>Music</td>\n",
       "      <td>2024-02-25</td>\n",
       "      <td>GB</td>\n",
       "      <td>714107</td>\n",
       "      <td>42475</td>\n",
       "      <td>2502</td>\n",
       "      <td>3330</td>\n",
       "      <td>vlog</td>\n",
       "      <td>-0.79</td>\n",
       "      <td>27</td>\n",
       "    </tr>\n",
       "  </tbody>\n",
       "</table>\n",
       "</div>"
      ],
      "text/plain": [
       "  video_id     title channel_title category publish_time country   views  \\\n",
       "0  vid_000  Video 84     Channel_0     News   2024-01-12      DE  123632   \n",
       "1  vid_001  Video 54     Channel_1    Music   2024-02-08      IN  947012   \n",
       "2  vid_002  Video 71     Channel_2     News   2024-01-02      IN  261451   \n",
       "3  vid_003  Video 46     Channel_3     News   2024-01-03      IN   13051   \n",
       "4  vid_004  Video 45     Channel_4    Music   2024-02-25      GB  714107   \n",
       "\n",
       "   likes  dislikes  comment_count           tags  sentiment_score  \\\n",
       "0  23789      7400          19968           vlog             0.43   \n",
       "1  45190      8082           9588  breaking news             0.79   \n",
       "2  35757      4171          11829  breaking news             0.02   \n",
       "3  10323      4360           8053  breaking news             0.06   \n",
       "4  42475      2502           3330           vlog            -0.79   \n",
       "\n",
       "   trending_duration_days  \n",
       "0                      21  \n",
       "1                       5  \n",
       "2                       5  \n",
       "3                      19  \n",
       "4                      27  "
      ]
     },
     "execution_count": 11,
     "metadata": {},
     "output_type": "execute_result"
    }
   ],
   "source": [
    "df['country'] = df['country'].str.upper()\n",
    "df.head()"
   ]
  },
  {
   "cell_type": "code",
   "execution_count": 33,
   "id": "81165e12-a557-44e5-9711-3948831f8982",
   "metadata": {},
   "outputs": [],
   "source": [
    "from textblob import TextBlob"
   ]
  },
  {
   "cell_type": "code",
   "execution_count": 34,
   "id": "1f3728db-588e-408a-a16a-9a0e9f0cbd0e",
   "metadata": {},
   "outputs": [],
   "source": [
    "def get_sentiment(text):\n",
    "    return TextBlob(str(text)).sentiment.polarity"
   ]
  },
  {
   "cell_type": "code",
   "execution_count": 36,
   "id": "0292ca84-46ed-4e86-8b7a-c92d95dfe948",
   "metadata": {},
   "outputs": [],
   "source": [
    "df['title_sentiment'] =  df['title'].apply(get_sentiment)\n",
    "df['tags_sentiment'] =  df['tags'].apply(get_sentiment)"
   ]
  },
  {
   "cell_type": "code",
   "execution_count": 37,
   "id": "951d3596-2431-40ea-be6c-800cf50f7827",
   "metadata": {},
   "outputs": [
    {
     "name": "stdout",
     "output_type": "stream",
     "text": [
      "      title  title_sentiment           tags  tags_sentiment\n",
      "0  Video 84              0.0           vlog             0.0\n",
      "1  Video 54              0.0  breaking news             0.0\n",
      "2  Video 71              0.0  breaking news             0.0\n",
      "3  Video 46              0.0  breaking news             0.0\n",
      "4  Video 45              0.0           vlog             0.0\n"
     ]
    }
   ],
   "source": [
    "print(df[['title', 'title_sentiment', 'tags', 'tags_sentiment']].head())\n"
   ]
  },
  {
   "cell_type": "markdown",
   "id": "11fa14e7-909a-42d9-98aa-4aeb887cd67d",
   "metadata": {},
   "source": [
    "# Perform Some Statistical Analysis"
   ]
  },
  {
   "cell_type": "code",
   "execution_count": 38,
   "id": "e85ac119-e0fc-4fce-b72b-d3c4968f1090",
   "metadata": {},
   "outputs": [
    {
     "name": "stdout",
     "output_type": "stream",
     "text": [
      "       title_sentiment  tags_sentiment\n",
      "count            100.0      100.000000\n",
      "mean               0.0        0.064545\n",
      "std                0.0        0.096300\n",
      "min                0.0        0.000000\n",
      "25%                0.0        0.000000\n",
      "50%                0.0        0.000000\n",
      "75%                0.0        0.136364\n",
      "max                0.0        0.250000\n"
     ]
    }
   ],
   "source": [
    "print(df[['title_sentiment', 'tags_sentiment']].describe())"
   ]
  },
  {
   "cell_type": "code",
   "execution_count": 40,
   "id": "98aa4d8c-825b-45d0-8f69-b85ea85c97fe",
   "metadata": {},
   "outputs": [
    {
     "name": "stdout",
     "output_type": "stream",
     "text": [
      "              likes     dislikes  comment_count          views  \\\n",
      "count    100.000000   100.000000     100.000000     100.000000   \n",
      "mean   26038.620000  5153.300000    9814.050000  468160.010000   \n",
      "std    14510.070173  2706.230796    5621.983847  282030.958758   \n",
      "min      912.000000   133.000000       9.000000   13051.000000   \n",
      "25%    14778.500000  3034.750000    4973.000000  210764.500000   \n",
      "50%    26281.500000  5227.000000    9724.000000  462000.000000   \n",
      "75%    38851.500000  7282.000000   14444.750000  716829.750000   \n",
      "max    49615.000000  9872.000000   19968.000000  981525.000000   \n",
      "\n",
      "       trending_duration_days  \n",
      "count              100.000000  \n",
      "mean                13.890000  \n",
      "std                  8.947541  \n",
      "min                  1.000000  \n",
      "25%                  6.000000  \n",
      "50%                 13.500000  \n",
      "75%                 21.250000  \n",
      "max                 29.000000  \n"
     ]
    }
   ],
   "source": [
    "print(df[['likes', 'dislikes', 'comment_count', 'views', 'trending_duration_days']].describe())"
   ]
  },
  {
   "cell_type": "markdown",
   "id": "76161272-8483-441e-953c-cfccfa07ac8f",
   "metadata": {},
   "source": [
    "# Create Bar-Graph for sentiment analysis."
   ]
  },
  {
   "cell_type": "code",
   "execution_count": 41,
   "id": "f03e5f58-9251-467e-baca-d3c6a348df0c",
   "metadata": {},
   "outputs": [
    {
     "data": {
      "image/png": "[encoded data removed]",
      "text/plain": [
       "<Figure size 1000x500 with 1 Axes>"
      ]
     },
     "metadata": {},
     "output_type": "display_data"
    }
   ],
   "source": [
    "import matplotlib.pyplot as plt\n",
    "import seaborn as sns \n",
    "plt.figure(figsize=(10, 5))\n",
    "sns.histplot(df['title_sentiment'], bins=30, kde=True, color='blue', label='Title Sentiment')\n",
    "sns.histplot(df['tags_sentiment'], bins=30, kde=True, color='green', label='Tags Sentiment')\n",
    "plt.title('Sentiment Score Distribution')\n",
    "plt.xlabel('Sentiment Score')\n",
    "plt.legend()\n",
    "plt.show()"
   ]
  },
  {
   "cell_type": "code",
   "execution_count": null,
   "id": "ee1b0955-1dc1-4f22-8789-fde754403e87",
   "metadata": {},
   "outputs": [],
   "source": [
    "# Perform Category Level sentiment aver"
   ]
  },
  {
   "cell_type": "code",
   "execution_count": 42,
   "id": "2c7b5c8e-700f-49e5-a095-521e82b3f91a",
   "metadata": {},
   "outputs": [
    {
     "name": "stdout",
     "output_type": "stream",
     "text": [
      "               title_sentiment  tags_sentiment\n",
      "category                                      \n",
      "Education                  0.0        0.076299\n",
      "Entertainment              0.0        0.063920\n",
      "Gaming                     0.0        0.059917\n",
      "Music                      0.0        0.060606\n",
      "News                       0.0        0.082955\n",
      "Sports                     0.0        0.042929\n"
     ]
    }
   ],
   "source": [
    "genre_sentiment = df.groupby('category')[['title_sentiment', 'tags_sentiment']].mean()\n",
    "print(genre_sentiment.sort_values(by='title_sentiment', ascending=False))"
   ]
  },
  {
   "cell_type": "code",
   "execution_count": 43,
   "id": "5c8e2ab4-9b4c-411a-8d69-bba201c943b1",
   "metadata": {},
   "outputs": [
    {
     "name": "stdout",
     "output_type": "stream",
     "text": [
      "                    views     likes  title_sentiment\n",
      "views            1.000000  0.053894              NaN\n",
      "likes            0.053894  1.000000              NaN\n",
      "title_sentiment       NaN       NaN              NaN\n"
     ]
    }
   ],
   "source": [
    "print(df[['views', 'likes', 'title_sentiment']].corr())"
   ]
  },
  {
   "cell_type": "code",
   "execution_count": null,
   "id": "84b25345-4d84-41a4-8ac7-7182b5386939",
   "metadata": {},
   "outputs": [],
   "source": []
  }
 ],
 "metadata": {
  "kernelspec": {
   "display_name": "Python 3 (ipykernel)",
   "language": "python",
   "name": "python3"
  },
  "language_info": {
   "codemirror_mode": {
    "name": "ipython",
    "version": 3
   },
   "file_extension": ".py",
   "mimetype": "text/x-python",
   "name": "python",
   "nbconvert_exporter": "python",
   "pygments_lexer": "ipython3",
   "version": "3.13.3"
  }
 },
 "nbformat": 4,
 "nbformat_minor": 5
}
