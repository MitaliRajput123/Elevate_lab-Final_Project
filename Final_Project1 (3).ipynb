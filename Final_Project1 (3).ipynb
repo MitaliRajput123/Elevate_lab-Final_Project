{
 "cells": [
  {
   "cell_type": "code",
   "execution_count": 1,
   "id": "e5c960d0-a68f-4fba-8367-fc9096c8c6ec",
   "metadata": {},
   "outputs": [],
   "source": [
    "import numpy as np\n",
    "import pandas as pd \n",
    "import matplotlib.pyplot as plt\n",
    "import seaborn as sns"
   ]
  },
  {
   "cell_type": "markdown",
   "id": "7a2e9e9b-2385-456d-ad19-5c8b5af5c774",
   "metadata": {},
   "source": [
    "# Import data file and clean it."
   ]
  },
  {
   "cell_type": "code",
   "execution_count": 51,
   "id": "87826e69-ffd2-4d72-b5d4-6035f2dcae34",
   "metadata": {},
   "outputs": [
    {
     "data": {
      "text/html": [
       "<div>\n",
       "<style scoped>\n",
       "    .dataframe tbody tr th:only-of-type {\n",
       "        vertical-align: middle;\n",
       "    }\n",
       "\n",
       "    .dataframe tbody tr th {\n",
       "        vertical-align: top;\n",
       "    }\n",
       "\n",
       "    .dataframe thead th {\n",
       "        text-align: right;\n",
       "    }\n",
       "</style>\n",
       "<table border=\"1\" class=\"dataframe\">\n",
       "  <thead>\n",
       "    <tr style=\"text-align: right;\">\n",
       "      <th></th>\n",
       "      <th>Date</th>\n",
       "      <th>Product_Category</th>\n",
       "      <th>Sub_Category</th>\n",
       "      <th>Region</th>\n",
       "      <th>Sales</th>\n",
       "      <th>Profit</th>\n",
       "      <th>Revenue</th>\n",
       "      <th>Quantity_Sold</th>\n",
       "      <th>Inventory_Days</th>\n",
       "      <th>Season</th>\n",
       "    </tr>\n",
       "  </thead>\n",
       "  <tbody>\n",
       "    <tr>\n",
       "      <th>0</th>\n",
       "      <td>2025-01-23</td>\n",
       "      <td>Electronics</td>\n",
       "      <td>Camera</td>\n",
       "      <td>West</td>\n",
       "      <td>156</td>\n",
       "      <td>187</td>\n",
       "      <td>343</td>\n",
       "      <td>22</td>\n",
       "      <td>22</td>\n",
       "      <td>Fall</td>\n",
       "    </tr>\n",
       "    <tr>\n",
       "      <th>1</th>\n",
       "      <td>2025-08-11</td>\n",
       "      <td>Apparel</td>\n",
       "      <td>Shoes</td>\n",
       "      <td>South</td>\n",
       "      <td>979</td>\n",
       "      <td>193</td>\n",
       "      <td>1172</td>\n",
       "      <td>14</td>\n",
       "      <td>72</td>\n",
       "      <td>Spring</td>\n",
       "    </tr>\n",
       "    <tr>\n",
       "      <th>2</th>\n",
       "      <td>2025-08-17</td>\n",
       "      <td>Electronics</td>\n",
       "      <td>Mobile</td>\n",
       "      <td>East</td>\n",
       "      <td>632</td>\n",
       "      <td>30</td>\n",
       "      <td>662</td>\n",
       "      <td>93</td>\n",
       "      <td>72</td>\n",
       "      <td>Summer</td>\n",
       "    </tr>\n",
       "    <tr>\n",
       "      <th>3</th>\n",
       "      <td>2025-12-06</td>\n",
       "      <td>Apparel</td>\n",
       "      <td>Jeans</td>\n",
       "      <td>East</td>\n",
       "      <td>148</td>\n",
       "      <td>31</td>\n",
       "      <td>179</td>\n",
       "      <td>82</td>\n",
       "      <td>45</td>\n",
       "      <td>Winter</td>\n",
       "    </tr>\n",
       "    <tr>\n",
       "      <th>4</th>\n",
       "      <td>2025-03-22</td>\n",
       "      <td>Home Appliances</td>\n",
       "      <td>Vacuum Cleaner</td>\n",
       "      <td>South</td>\n",
       "      <td>710</td>\n",
       "      <td>153</td>\n",
       "      <td>863</td>\n",
       "      <td>89</td>\n",
       "      <td>10</td>\n",
       "      <td>Spring</td>\n",
       "    </tr>\n",
       "  </tbody>\n",
       "</table>\n",
       "</div>"
      ],
      "text/plain": [
       "         Date Product_Category    Sub_Category Region  Sales  Profit  Revenue  \\\n",
       "0  2025-01-23      Electronics          Camera   West    156     187      343   \n",
       "1  2025-08-11          Apparel           Shoes  South    979     193     1172   \n",
       "2  2025-08-17      Electronics          Mobile   East    632      30      662   \n",
       "3  2025-12-06          Apparel           Jeans   East    148      31      179   \n",
       "4  2025-03-22  Home Appliances  Vacuum Cleaner  South    710     153      863   \n",
       "\n",
       "   Quantity_Sold  Inventory_Days  Season  \n",
       "0             22              22    Fall  \n",
       "1             14              72  Spring  \n",
       "2             93              72  Summer  \n",
       "3             82              45  Winter  \n",
       "4             89              10  Spring  "
      ]
     },
     "execution_count": 51,
     "metadata": {},
     "output_type": "execute_result"
    }
   ],
   "source": [
    "df = pd.read_csv('Downloads/business_analysis_cleaned.csv')\n",
    "df.head()\n",
    "df.rename(columns ={'Product Category':'Product_Category','Sub-Category':'Sub_Category','Quantity Sold':'Quantity_Sold','Inventory Days':'Inventory_Days'}, inplace=True)\n",
    "df.head()"
   ]
  },
  {
   "cell_type": "markdown",
   "id": "6ffd51e5-07e5-43f1-94b2-a29a0ee9dd06",
   "metadata": {},
   "source": [
    "# Drop Null Values."
   ]
  },
  {
   "cell_type": "code",
   "execution_count": 31,
   "id": "6a055721-d327-4373-bdfe-0d7ab2d178ef",
   "metadata": {},
   "outputs": [],
   "source": [
    "df_clean = df.dropna()"
   ]
  },
  {
   "cell_type": "markdown",
   "id": "42b689f8-69b7-49e7-86f3-491b6997388c",
   "metadata": {},
   "source": [
    "# Basic Information."
   ]
  },
  {
   "cell_type": "code",
   "execution_count": 57,
   "id": "844c7811-72fd-436c-8ba5-e4f61dc770b3",
   "metadata": {},
   "outputs": [
    {
     "name": "stdout",
     "output_type": "stream",
     "text": [
      "<class 'pandas.core.frame.DataFrame'>\n",
      "RangeIndex: 100 entries, 0 to 99\n",
      "Data columns (total 10 columns):\n",
      " #   Column            Non-Null Count  Dtype \n",
      "---  ------            --------------  ----- \n",
      " 0   Date              100 non-null    object\n",
      " 1   Product_Category  100 non-null    object\n",
      " 2   Sub_Category      100 non-null    object\n",
      " 3   Region            100 non-null    object\n",
      " 4   Sales             100 non-null    int64 \n",
      " 5   Profit            100 non-null    int64 \n",
      " 6   Revenue           100 non-null    int64 \n",
      " 7   Quantity_Sold     100 non-null    int64 \n",
      " 8   Inventory_Days    100 non-null    int64 \n",
      " 9   Season            100 non-null    object\n",
      "dtypes: int64(5), object(5)\n",
      "memory usage: 7.9+ KB\n"
     ]
    }
   ],
   "source": [
    "df.info()"
   ]
  },
  {
   "cell_type": "markdown",
   "id": "bd3f9e66-bddb-4e04-9a35-2f4fe7b9c48a",
   "metadata": {},
   "source": [
    "# Convert datatype into date formate."
   ]
  },
  {
   "cell_type": "code",
   "execution_count": 60,
   "id": "1d908b36-221c-4229-9c16-5f3f7af61d86",
   "metadata": {},
   "outputs": [
    {
     "name": "stdout",
     "output_type": "stream",
     "text": [
      "datetime64[ns]\n"
     ]
    }
   ],
   "source": [
    "df['Date'] =pd.to_datetime(df['Date'])\n",
    "print(df['Date'].dtypes)"
   ]
  },
  {
   "cell_type": "code",
   "execution_count": 52,
   "id": "5e709a7a-933e-4073-828d-216b6bce42c1",
   "metadata": {},
   "outputs": [
    {
     "data": {
      "text/plain": [
       "Date                0\n",
       "Product_Category    0\n",
       "Sub_Category        0\n",
       "Region              0\n",
       "Sales               0\n",
       "Profit              0\n",
       "Revenue             0\n",
       "Quantity_Sold       0\n",
       "Inventory_Days      0\n",
       "Season              0\n",
       "dtype: int64"
      ]
     },
     "execution_count": 52,
     "metadata": {},
     "output_type": "execute_result"
    }
   ],
   "source": [
    "df.isnull().sum()"
   ]
  },
  {
   "cell_type": "markdown",
   "id": "9e6276d6-e784-47f6-a589-5ac51514855d",
   "metadata": {},
   "source": [
    "# Describe basic statistic of attributes."
   ]
  },
  {
   "cell_type": "code",
   "execution_count": 64,
   "id": "2e049520-5b69-4b3a-adc5-b555c8e49cb5",
   "metadata": {},
   "outputs": [
    {
     "name": "stdout",
     "output_type": "stream",
     "text": [
      "           Sales      Profit     Revenue  Quantity_Sold\n",
      "count  100.00000  100.000000   100.00000     100.000000\n",
      "mean   545.44000  102.710000   648.15000      47.650000\n",
      "std    268.00706   54.159192   281.18312      27.898581\n",
      "min    101.00000   10.000000   125.00000       2.000000\n",
      "25%    279.25000   53.750000   381.00000      24.000000\n",
      "50%    560.50000   98.500000   656.00000      45.500000\n",
      "75%    715.75000  149.250000   858.25000      69.250000\n",
      "max    998.00000  196.000000  1172.00000     100.000000\n"
     ]
    }
   ],
   "source": [
    "print(df[['Sales','Profit','Revenue','Quantity_Sold']].describe())"
   ]
  },
  {
   "cell_type": "code",
   "execution_count": 53,
   "id": "f8e17206-746c-499f-b2e3-af5f3c4c81f0",
   "metadata": {},
   "outputs": [
    {
     "data": {
      "text/html": [
       "<div>\n",
       "<style scoped>\n",
       "    .dataframe tbody tr th:only-of-type {\n",
       "        vertical-align: middle;\n",
       "    }\n",
       "\n",
       "    .dataframe tbody tr th {\n",
       "        vertical-align: top;\n",
       "    }\n",
       "\n",
       "    .dataframe thead th {\n",
       "        text-align: right;\n",
       "    }\n",
       "</style>\n",
       "<table border=\"1\" class=\"dataframe\">\n",
       "  <thead>\n",
       "    <tr style=\"text-align: right;\">\n",
       "      <th></th>\n",
       "      <th>Date</th>\n",
       "      <th>Product_Category</th>\n",
       "      <th>Sub_Category</th>\n",
       "      <th>Region</th>\n",
       "      <th>Sales</th>\n",
       "      <th>Profit</th>\n",
       "      <th>Revenue</th>\n",
       "      <th>Quantity_Sold</th>\n",
       "      <th>Inventory_Days</th>\n",
       "      <th>Season</th>\n",
       "    </tr>\n",
       "  </thead>\n",
       "  <tbody>\n",
       "    <tr>\n",
       "      <th>0</th>\n",
       "      <td>2025-01-23</td>\n",
       "      <td>Electronics</td>\n",
       "      <td>Camera</td>\n",
       "      <td>West</td>\n",
       "      <td>156</td>\n",
       "      <td>187</td>\n",
       "      <td>343</td>\n",
       "      <td>22</td>\n",
       "      <td>22</td>\n",
       "      <td>Fall</td>\n",
       "    </tr>\n",
       "    <tr>\n",
       "      <th>1</th>\n",
       "      <td>2025-08-11</td>\n",
       "      <td>Apparel</td>\n",
       "      <td>Shoes</td>\n",
       "      <td>South</td>\n",
       "      <td>979</td>\n",
       "      <td>193</td>\n",
       "      <td>1172</td>\n",
       "      <td>14</td>\n",
       "      <td>72</td>\n",
       "      <td>Spring</td>\n",
       "    </tr>\n",
       "    <tr>\n",
       "      <th>2</th>\n",
       "      <td>2025-08-17</td>\n",
       "      <td>Electronics</td>\n",
       "      <td>Mobile</td>\n",
       "      <td>East</td>\n",
       "      <td>632</td>\n",
       "      <td>30</td>\n",
       "      <td>662</td>\n",
       "      <td>93</td>\n",
       "      <td>72</td>\n",
       "      <td>Summer</td>\n",
       "    </tr>\n",
       "    <tr>\n",
       "      <th>3</th>\n",
       "      <td>2025-12-06</td>\n",
       "      <td>Apparel</td>\n",
       "      <td>Jeans</td>\n",
       "      <td>East</td>\n",
       "      <td>148</td>\n",
       "      <td>31</td>\n",
       "      <td>179</td>\n",
       "      <td>82</td>\n",
       "      <td>45</td>\n",
       "      <td>Winter</td>\n",
       "    </tr>\n",
       "    <tr>\n",
       "      <th>4</th>\n",
       "      <td>2025-03-22</td>\n",
       "      <td>Home Appliances</td>\n",
       "      <td>Vacuum Cleaner</td>\n",
       "      <td>South</td>\n",
       "      <td>710</td>\n",
       "      <td>153</td>\n",
       "      <td>863</td>\n",
       "      <td>89</td>\n",
       "      <td>10</td>\n",
       "      <td>Spring</td>\n",
       "    </tr>\n",
       "  </tbody>\n",
       "</table>\n",
       "</div>"
      ],
      "text/plain": [
       "         Date Product_Category    Sub_Category Region  Sales  Profit  Revenue  \\\n",
       "0  2025-01-23      Electronics          Camera   West    156     187      343   \n",
       "1  2025-08-11          Apparel           Shoes  South    979     193     1172   \n",
       "2  2025-08-17      Electronics          Mobile   East    632      30      662   \n",
       "3  2025-12-06          Apparel           Jeans   East    148      31      179   \n",
       "4  2025-03-22  Home Appliances  Vacuum Cleaner  South    710     153      863   \n",
       "\n",
       "   Quantity_Sold  Inventory_Days  Season  \n",
       "0             22              22    Fall  \n",
       "1             14              72  Spring  \n",
       "2             93              72  Summer  \n",
       "3             82              45  Winter  \n",
       "4             89              10  Spring  "
      ]
     },
     "execution_count": 53,
     "metadata": {},
     "output_type": "execute_result"
    }
   ],
   "source": [
    "# Create SQLite in-memory database\n",
    "import sqlite3\n",
    "conn = sqlite3.connect(':memory:')\n",
    "df.to_sql('retail_data', conn, index=False, if_exists='replace')\n",
    "df.head()"
   ]
  },
  {
   "cell_type": "markdown",
   "id": "adaa1c65-e1a0-4a2e-815a-462f7a521ac0",
   "metadata": {},
   "source": [
    "# SQL query for profit margin by category and sub-category."
   ]
  },
  {
   "cell_type": "code",
   "execution_count": 55,
   "id": "6c9ac5c5-ca80-44f8-ae49-87928c8f5e59",
   "metadata": {},
   "outputs": [
    {
     "data": {
      "text/html": [
       "<div>\n",
       "<style scoped>\n",
       "    .dataframe tbody tr th:only-of-type {\n",
       "        vertical-align: middle;\n",
       "    }\n",
       "\n",
       "    .dataframe tbody tr th {\n",
       "        vertical-align: top;\n",
       "    }\n",
       "\n",
       "    .dataframe thead th {\n",
       "        text-align: right;\n",
       "    }\n",
       "</style>\n",
       "<table border=\"1\" class=\"dataframe\">\n",
       "  <thead>\n",
       "    <tr style=\"text-align: right;\">\n",
       "      <th></th>\n",
       "      <th>Product_Category</th>\n",
       "      <th>Sub_Category</th>\n",
       "      <th>Total_Profit</th>\n",
       "      <th>Total_Sales</th>\n",
       "      <th>Profit_Margin_Percent</th>\n",
       "    </tr>\n",
       "  </thead>\n",
       "  <tbody>\n",
       "    <tr>\n",
       "      <th>0</th>\n",
       "      <td>Home Appliances</td>\n",
       "      <td>Mixer</td>\n",
       "      <td>339</td>\n",
       "      <td>3071</td>\n",
       "      <td>11.04</td>\n",
       "    </tr>\n",
       "    <tr>\n",
       "      <th>1</th>\n",
       "      <td>Home Appliances</td>\n",
       "      <td>Microwave</td>\n",
       "      <td>572</td>\n",
       "      <td>3898</td>\n",
       "      <td>14.67</td>\n",
       "    </tr>\n",
       "    <tr>\n",
       "      <th>2</th>\n",
       "      <td>Apparel</td>\n",
       "      <td>Shoes</td>\n",
       "      <td>698</td>\n",
       "      <td>4541</td>\n",
       "      <td>15.37</td>\n",
       "    </tr>\n",
       "    <tr>\n",
       "      <th>3</th>\n",
       "      <td>Groceries</td>\n",
       "      <td>Beverages</td>\n",
       "      <td>379</td>\n",
       "      <td>2382</td>\n",
       "      <td>15.91</td>\n",
       "    </tr>\n",
       "    <tr>\n",
       "      <th>4</th>\n",
       "      <td>Electronics</td>\n",
       "      <td>Mobile</td>\n",
       "      <td>556</td>\n",
       "      <td>3488</td>\n",
       "      <td>15.94</td>\n",
       "    </tr>\n",
       "  </tbody>\n",
       "</table>\n",
       "</div>"
      ],
      "text/plain": [
       "  Product_Category Sub_Category  Total_Profit  Total_Sales  \\\n",
       "0  Home Appliances        Mixer           339         3071   \n",
       "1  Home Appliances    Microwave           572         3898   \n",
       "2          Apparel        Shoes           698         4541   \n",
       "3        Groceries    Beverages           379         2382   \n",
       "4      Electronics       Mobile           556         3488   \n",
       "\n",
       "   Profit_Margin_Percent  \n",
       "0                  11.04  \n",
       "1                  14.67  \n",
       "2                  15.37  \n",
       "3                  15.91  \n",
       "4                  15.94  "
      ]
     },
     "execution_count": 55,
     "metadata": {},
     "output_type": "execute_result"
    }
   ],
   "source": [
    "query = \"\"\"\n",
    "SELECT \n",
    "    Product_Category,\n",
    "    Sub_Category,\n",
    "    SUM(Profit) AS Total_Profit,\n",
    "    SUM(Sales) AS Total_Sales,\n",
    "    ROUND(SUM(Profit) * 100.0 / SUM(Sales), 2) AS Profit_Margin_Percent\n",
    "FROM retail_data\n",
    "GROUP BY Product_Category, Sub_Category\n",
    "ORDER BY Profit_Margin_Percent ASC\n",
    "\"\"\"\n",
    "sql_result = pd.read_sql(query, conn)\n",
    "sql_result.head()"
   ]
  },
  {
   "cell_type": "markdown",
   "id": "a59ad80b-2655-4511-842f-cc000165d850",
   "metadata": {},
   "source": [
    "# Correlation check."
   ]
  },
  {
   "cell_type": "code",
   "execution_count": 56,
   "id": "10145cbe-f72d-4c5b-b478-75bcdd7d4a79",
   "metadata": {},
   "outputs": [
    {
     "name": "stdout",
     "output_type": "stream",
     "text": [
      "                Inventory_Days    Profit\n",
      "Inventory_Days        1.000000 -0.026489\n",
      "Profit               -0.026489  1.000000\n"
     ]
    },
    {
     "data": {
      "image/png": "[encoded data removed]",
      "text/plain": [
       "<Figure size 640x480 with 1 Axes>"
      ]
     },
     "metadata": {},
     "output_type": "display_data"
    }
   ],
   "source": [
    "correlation = df[['Inventory_Days', 'Profit']].corr()\n",
    "print(correlation)\n",
    "\n",
    "# Visualization\n",
    "sns.scatterplot(data=df, x='Inventory_Days', y='Profit')\n",
    "plt.title('Correlation between Inventory Days and Profitability')\n",
    "plt.show()\n",
    "\n"
   ]
  },
  {
   "cell_type": "code",
   "execution_count": null,
   "id": "ad94c9b1-016c-4f36-bbd5-af2c5ae14478",
   "metadata": {},
   "outputs": [],
   "source": []
  }
 ],
 "metadata": {
  "kernelspec": {
   "display_name": "Python 3 (ipykernel)",
   "language": "python",
   "name": "python3"
  },
  "language_info": {
   "codemirror_mode": {
    "name": "ipython",
    "version": 3
   },
   "file_extension": ".py",
   "mimetype": "text/x-python",
   "name": "python",
   "nbconvert_exporter": "python",
   "pygments_lexer": "ipython3",
   "version": "3.13.3"
  }
 },
 "nbformat": 4,
 "nbformat_minor": 5
}
